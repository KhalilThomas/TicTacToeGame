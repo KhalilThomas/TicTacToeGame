{
 "cells": [
  {
   "cell_type": "markdown",
   "metadata": {},
   "source": [
    "# Planning for Tic Tac Toe program: #\n",
    "\n",
    "## 1) Flowchart\n",
    "![](Flowchart.png)\n",
    "This flowchart was made in draw.io, it outlines how the logic of the program will pan out as well as how the program will \"respond\" to an incorrect input(clicking a square that's already occupied)"
   ]
  },
  {
   "cell_type": "markdown",
   "metadata": {},
   "source": [
    "## 2) Notes and Methods to approach program\n",
    "This program is relatively simple, particularly regarding inputs so the way in which the program should work will be a general \n",
    "\n",
    "### Brief explanation of what Tic Tac Toe is:\n",
    "\"Tic Tac Toe\" or Naughts & crosses is a game that is comprised of X's and O's, in order for a player to win the game they need to get exactly 3 of their value in a row, this can either be diagonally, horizontally or vertically. \n",
    "\n",
    "### How the program should work:\n",
    "1)The program should output a grid which the player can interact with\n",
    "2)The player should be able to input a value into one of the 3x3 squares\n",
    "3)The program should output an updated grid with the values on at each user input interval\n",
    "\n",
    "### Rules:\n",
    "1)A value cannot be put in a square that is already occupied\n",
    "2)The players need to take it in turns to play the game\n",
    "3)The players cannot go outside of the grid\n",
    "4)In order to win you have to get three values in a row\n",
    "5)If neither player gets 3 in a row, it is a draw"
   ]
  },
  {
   "cell_type": "markdown",
   "metadata": {},
   "source": [
    "## 3) Program Testing Plan\n",
    "![](testingTable.png)\n",
    "This table is used in order to outline the key errors the program may have and how the program should run without these errors. This enables the programmer to not overlook any faults in the program's logic or merely how the program operates as a whole."
   ]
  },
 },
 "nbformat": 4,
 "nbformat_minor": 2
}
